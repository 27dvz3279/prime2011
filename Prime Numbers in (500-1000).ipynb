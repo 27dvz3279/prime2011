{
 "cells": [
  {
   "cell_type": "code",
   "execution_count": 1,
   "metadata": {},
   "outputs": [
    {
     "data": {
      "text/plain": [
       "31.622776601683793"
      ]
     },
     "execution_count": 1,
     "metadata": {},
     "output_type": "execute_result"
    }
   ],
   "source": [
    "import math\n",
    "math.sqrt(1000)"
   ]
  },
  {
   "cell_type": "markdown",
   "metadata": {},
   "source": [
    "2, 3, 5, 7, 11, 13, 17, 19, 23, 29, 31 are prime numbers you need."
   ]
  },
  {
   "cell_type": "markdown",
   "metadata": {},
   "source": [
    "500<P^2+Σ2P<1000 (P=3)"
   ]
  },
  {
   "cell_type": "code",
   "execution_count": 6,
   "metadata": {},
   "outputs": [
    {
     "data": {
      "text/plain": [
       "789"
      ]
     },
     "execution_count": 6,
     "metadata": {},
     "output_type": "execute_result"
    }
   ],
   "source": [
    "def func(x):\n",
    "    x = 3*3 + 2*x*3\n",
    "    return x\n",
    "func(82); func(83); func(84); func(85); func(86); func(87); func(88); func(89); func(90); \n",
    "func(91); func(92); func(93); func(94); func(95); func(96); func(97); func(98); func(99); func(100);\n",
    "func(101); func(102); func(103); func(104); func(105); func(106); func(107); func(108); func(109); func(110);\n",
    "func(111); func(112); func(113); func(114); func(115); func(116); func(117); func(118); func(119); func(120);\n",
    "func(121); func(122); func(123); func(124); func(125); func(126); func(127); func(128); func(129); func(130)"
   ]
  },
  {
   "cell_type": "code",
   "execution_count": 7,
   "metadata": {},
   "outputs": [
    {
     "name": "stdout",
     "output_type": "stream",
     "text": [
      "[501, 507, 513, 519, 525, 531, 537, 543, 549, 555, 561, 567, 573, 579, 585, 591, 597, 603, 609, 615, 621, 627, 633, 639, 645, 651, 657, 663, 669, 675, 681, 687, 693, 699, 705, 711, 717, 723, 729, 735, 741, 747, 753, 759, 765, 771, 777, 783, 789]\n"
     ]
    }
   ],
   "source": [
    "print [func(82), func(83), func(84), func(85), func(86), func(87), func(88), func(89), func(90), \n",
    "func(91), func(92), func(93), func(94), func(95), func(96), func(97), func(98), func(99), func(100),\n",
    "func(101), func(102), func(103), func(104), func(105), func(106), func(107), func(108), func(109), func(110),\n",
    "func(111), func(112), func(113), func(114), func(115), func(116), func(117), func(118), func(119), func(120),\n",
    "func(121), func(122), func(123), func(124), func(125), func(126), func(127), func(128), func(129), func(130)]"
   ]
  },
  {
   "cell_type": "code",
   "execution_count": 12,
   "metadata": {},
   "outputs": [
    {
     "data": {
      "text/plain": [
       "999"
      ]
     },
     "execution_count": 12,
     "metadata": {},
     "output_type": "execute_result"
    }
   ],
   "source": [
    "func(131); func(132); func(133); func(134); func(135); func(136); func(137); func(138); func(139); func(140);\n",
    "func(141); func(142); func(143); func(144); func(145); func(146); func(147); func(148); func(149); func(150);\n",
    "func(151); func(152); func(153); func(154); func(155); func(156); func(157); func(158); func(159); func(160);\n",
    "func(161); func(162); func(163); func(164); func(165)"
   ]
  },
  {
   "cell_type": "code",
   "execution_count": 13,
   "metadata": {},
   "outputs": [
    {
     "name": "stdout",
     "output_type": "stream",
     "text": [
      "[795, 801, 807, 813, 819, 825, 831, 837, 843, 849, 855, 861, 867, 873, 879, 885, 891, 897, 903, 909, 915, 921, 927, 933, 939, 945, 951, 957, 963, 969, 975, 981, 987, 993, 999]\n"
     ]
    }
   ],
   "source": [
    "print [func(131), func(132), func(133), func(134), func(135), func(136), func(137), func(138), func(139), func(140),\n",
    "func(141), func(142), func(143), func(144), func(145), func(146), func(147), func(148), func(149), func(150),\n",
    "func(151), func(152), func(153), func(154), func(155), func(156), func(157), func(158), func(159), func(160),\n",
    "func(161), func(162), func(163), func(164), func(165)]"
   ]
  },
  {
   "cell_type": "markdown",
   "metadata": {},
   "source": [
    "500<P^2+Σ2P<1000 (P=5)"
   ]
  },
  {
   "cell_type": "code",
   "execution_count": 27,
   "metadata": {},
   "outputs": [
    {
     "data": {
      "text/plain": [
       "995"
      ]
     },
     "execution_count": 27,
     "metadata": {},
     "output_type": "execute_result"
    }
   ],
   "source": [
    "def func(x):\n",
    "    x = 5*5 + 2*x*5\n",
    "    return x\n",
    "func(48); func(49); func(50);\n",
    "func(51); func(52); func(53); func(54); func(55); func(56); func(57); func(58); func(59); func(60);\n",
    "func(61); func(62); func(63); func(64); func(65); func(66); func(67); func(68); func(69); func(70);\n",
    "func(71); func(72); func(73); func(74); func(75); func(76); func(77); func(78); func(79); func(80);\n",
    "func(81); func(82); func(83); func(84); func(85); func(86); func(87); func(88); func(89); func(90); \n",
    "func(91); func(92); func(93); func(94); func(95); func(96); func(97)"
   ]
  },
  {
   "cell_type": "code",
   "execution_count": 23,
   "metadata": {},
   "outputs": [
    {
     "name": "stdout",
     "output_type": "stream",
     "text": [
      "[505, 515, 525, 535, 545, 555, 565, 575, 585, 595, 605, 615, 625, 635, 645, 655, 665, 675, 685, 695, 705, 715, 725, 735, 745, 755, 765, 775, 785, 795, 805, 815, 825, 835, 845, 855, 865, 875, 885, 895, 905, 915, 925, 935, 945, 955, 965, 975, 985, 995]\n"
     ]
    }
   ],
   "source": [
    "print [func(48), func(49), func(50), \n",
    "       func(51), func(52), func(53), func(54), func(55), func(56), func(57), func(58), func(59), func(60), \n",
    "       func(61), func(62), func(63), func(64), func(65), func(66), func(67), func(68), func(69), func(70), \n",
    "       func(71), func(72), func(73), func(74), func(75), func(76), func(77), func(78), func(79), func(80), \n",
    "       func(81), func(82), func(83), func(84), func(85), func(86), func(87), func(88), func(89), func(90), \n",
    "       func(91), func(92), func(93), func(94), func(95), func(96), func(97)]"
   ]
  },
  {
   "cell_type": "markdown",
   "metadata": {},
   "source": [
    "500<P^2+Σ2P<1000 (P=7)"
   ]
  },
  {
   "cell_type": "code",
   "execution_count": 30,
   "metadata": {},
   "outputs": [
    {
     "data": {
      "text/plain": [
       "987"
      ]
     },
     "execution_count": 30,
     "metadata": {},
     "output_type": "execute_result"
    }
   ],
   "source": [
    "def func(x):\n",
    "    x = 7*7 + 2*x*7\n",
    "    return x\n",
    "func(33); func(34); func(35); func(36); func(37); func(38); func(39); func(40); \n",
    "func(41); func(42); func(43); func(44); func(45); func(46);func(47); func(48); func(49); func(50);\n",
    "func(51); func(52); func(53); func(54); func(55); func(56); func(57); func(58); func(59); func(60);\n",
    "func(61); func(62); func(63); func(64); func(65); func(66); func(67)"
   ]
  },
  {
   "cell_type": "code",
   "execution_count": 31,
   "metadata": {},
   "outputs": [
    {
     "name": "stdout",
     "output_type": "stream",
     "text": [
      "[511, 525, 539, 553, 567, 581, 595, 609, 623, 637, 651, 665, 679, 693, 707, 721, 735, 749, 763, 777, 791, 805, 819, 833, 847, 861, 875, 889, 903, 917, 931, 945, 959, 973, 987]\n"
     ]
    }
   ],
   "source": [
    "print [func(33), func(34), func(35), func(36), func(37), func(38), func(39), func(40), \n",
    "       func(41), func(42), func(43), func(44), func(45), func(46), func(47), func(48), func(49), func(50), \n",
    "       func(51), func(52), func(53), func(54), func(55), func(56), func(57), func(58), func(59), func(60), \n",
    "       func(61), func(62), func(63), func(64), func(65), func(66), func(67)]"
   ]
  },
  {
   "cell_type": "markdown",
   "metadata": {},
   "source": [
    "500<P^2+Σ2P<1000 (P=11)"
   ]
  },
  {
   "cell_type": "code",
   "execution_count": 37,
   "metadata": {},
   "outputs": [
    {
     "data": {
      "text/plain": [
       "979"
      ]
     },
     "execution_count": 37,
     "metadata": {},
     "output_type": "execute_result"
    }
   ],
   "source": [
    "def func(x):\n",
    "    x = 11*11 + 2*x*11\n",
    "    return x\n",
    "func(18); func(19); func(20); \n",
    "func(21); func(22); func(23); func(24); func(25); func(26); func(27); func(28); func(29); func(30); \n",
    "func(31); func(32);  func(33); func(34); func(35); func(36); func(37); func(38); func(39)"
   ]
  },
  {
   "cell_type": "code",
   "execution_count": 38,
   "metadata": {},
   "outputs": [
    {
     "name": "stdout",
     "output_type": "stream",
     "text": [
      "[517, 539, 561, 583, 605, 627, 649, 671, 693, 715, 737, 759, 781, 803, 825, 847, 869, 891, 913, 935, 957, 979]\n"
     ]
    }
   ],
   "source": [
    "print [func(18), func(19), func(20), \n",
    "       func(21), func(22), func(23), func(24), func(25), func(26), func(27), func(28), func(29), func(30), \n",
    "       func(31), func(32), func(33), func(34), func(35), func(36), func(37), func(38), func(39)]"
   ]
  },
  {
   "cell_type": "markdown",
   "metadata": {},
   "source": [
    "500<P^2+Σ2P<1000 (P=13)"
   ]
  },
  {
   "cell_type": "code",
   "execution_count": 40,
   "metadata": {},
   "outputs": [
    {
     "data": {
      "text/plain": [
       "975"
      ]
     },
     "execution_count": 40,
     "metadata": {},
     "output_type": "execute_result"
    }
   ],
   "source": [
    "def func(x):\n",
    "    x = 13*13 + 2*x*13\n",
    "    return x\n",
    "func(13); func(14); func(15); func(16); func(17); func(18); func(19); func(20); \n",
    "func(21); func(22); func(23); func(24); func(25); func(26); func(27); func(28); func(29); func(30); \n",
    "func(31)"
   ]
  },
  {
   "cell_type": "code",
   "execution_count": 41,
   "metadata": {},
   "outputs": [
    {
     "name": "stdout",
     "output_type": "stream",
     "text": [
      "[507, 533, 559, 585, 611, 637, 663, 689, 715, 741, 767, 793, 819, 845, 871, 897, 923, 949, 975]\n"
     ]
    }
   ],
   "source": [
    "print [func(13), func(14), func(15), func(16), func(17), func(18), func(19), func(20), \n",
    "       func(21), func(22), func(23), func(24), func(25), func(26), func(27), func(28), func(29), func(30), \n",
    "       func(31)]"
   ]
  },
  {
   "cell_type": "markdown",
   "metadata": {},
   "source": [
    "500<P^2+Σ2P<1000 (P=17)"
   ]
  },
  {
   "cell_type": "code",
   "execution_count": 45,
   "metadata": {},
   "outputs": [
    {
     "data": {
      "text/plain": [
       "969"
      ]
     },
     "execution_count": 45,
     "metadata": {},
     "output_type": "execute_result"
    }
   ],
   "source": [
    "def func(x):\n",
    "    x = 17*17 + 2*x*17\n",
    "    return x\n",
    "func(7); func(8); func(9); func(10); \n",
    "func(11); func(12); func(13); func(14); func(15); func(16); func(17); func(18); func(19); func(20)"
   ]
  },
  {
   "cell_type": "code",
   "execution_count": 47,
   "metadata": {},
   "outputs": [
    {
     "name": "stdout",
     "output_type": "stream",
     "text": [
      "[527, 561, 595, 629, 663, 697, 731, 765, 799, 833, 867, 901, 935, 969]\n"
     ]
    }
   ],
   "source": [
    "print [func(7), func(8), func(9), func(10), \n",
    "       func(11), func(12), func(13), func(14), func(15), func(16), func(17), func(18), func(19), func(20)]"
   ]
  },
  {
   "cell_type": "markdown",
   "metadata": {},
   "source": [
    "500<P^2+Σ2P<1000 (P=19)"
   ]
  },
  {
   "cell_type": "code",
   "execution_count": 53,
   "metadata": {},
   "outputs": [
    {
     "data": {
      "text/plain": [
       "969"
      ]
     },
     "execution_count": 53,
     "metadata": {},
     "output_type": "execute_result"
    }
   ],
   "source": [
    "def func(x):\n",
    "    x = 19*19 + 2*x*19\n",
    "    return x\n",
    "func(4); func(5); func(6); func(7); func(8); func(9); func(10); \n",
    "func(11); func(12); func(13); func(14); func(15); func(16)"
   ]
  },
  {
   "cell_type": "code",
   "execution_count": 54,
   "metadata": {},
   "outputs": [
    {
     "name": "stdout",
     "output_type": "stream",
     "text": [
      "[513, 551, 589, 627, 665, 703, 741, 779, 817, 855, 893, 931, 969]\n"
     ]
    }
   ],
   "source": [
    "print [func(4), func(5), func(6), func(7), func(8), func(9), func(10), \n",
    "       func(11), func(12), func(13), func(14), func(15), func(16)]"
   ]
  },
  {
   "cell_type": "markdown",
   "metadata": {},
   "source": [
    "P^2 (P=23)"
   ]
  },
  {
   "cell_type": "code",
   "execution_count": 55,
   "metadata": {},
   "outputs": [
    {
     "data": {
      "text/plain": [
       "529"
      ]
     },
     "execution_count": 55,
     "metadata": {},
     "output_type": "execute_result"
    }
   ],
   "source": [
    "def func(x):\n",
    "    x = x**2\n",
    "    return x\n",
    "func(23)"
   ]
  },
  {
   "cell_type": "markdown",
   "metadata": {},
   "source": [
    "500<P^2+Σ2P<1000 (P=23)"
   ]
  },
  {
   "cell_type": "code",
   "execution_count": 62,
   "metadata": {},
   "outputs": [
    {
     "data": {
      "text/plain": [
       "989"
      ]
     },
     "execution_count": 62,
     "metadata": {},
     "output_type": "execute_result"
    }
   ],
   "source": [
    "def func(x):\n",
    "    x = 23*23 + 2*x*23\n",
    "    return x\n",
    "func(1); func(2); func(3); func(4); func(5); func(6); func(7); func(8); func(9); func(10)"
   ]
  },
  {
   "cell_type": "code",
   "execution_count": 63,
   "metadata": {},
   "outputs": [
    {
     "name": "stdout",
     "output_type": "stream",
     "text": [
      "[575, 621, 667, 713, 759, 805, 851, 897, 943, 989]\n"
     ]
    }
   ],
   "source": [
    "print [func(1), func(2), func(3), func(4), func(5), func(6), func(7), func(8), func(9), func(10)]"
   ]
  },
  {
   "cell_type": "markdown",
   "metadata": {},
   "source": [
    "P^2 (P=29)"
   ]
  },
  {
   "cell_type": "code",
   "execution_count": 64,
   "metadata": {},
   "outputs": [
    {
     "data": {
      "text/plain": [
       "841"
      ]
     },
     "execution_count": 64,
     "metadata": {},
     "output_type": "execute_result"
    }
   ],
   "source": [
    "def func(x):\n",
    "    x = x**2\n",
    "    return x\n",
    "func(29)"
   ]
  },
  {
   "cell_type": "markdown",
   "metadata": {},
   "source": [
    "500<P^2+Σ2P<1000 (P=29)"
   ]
  },
  {
   "cell_type": "code",
   "execution_count": 68,
   "metadata": {},
   "outputs": [
    {
     "data": {
      "text/plain": [
       "957"
      ]
     },
     "execution_count": 68,
     "metadata": {},
     "output_type": "execute_result"
    }
   ],
   "source": [
    "def func(x):\n",
    "    x = 29*29 + 2*x*29\n",
    "    return x\n",
    "func(1); func(2)"
   ]
  },
  {
   "cell_type": "code",
   "execution_count": 69,
   "metadata": {},
   "outputs": [
    {
     "name": "stdout",
     "output_type": "stream",
     "text": [
      "[899, 957]\n"
     ]
    }
   ],
   "source": [
    "print [func(1), func(2)]"
   ]
  },
  {
   "cell_type": "markdown",
   "metadata": {},
   "source": [
    "P^2 (P=31)"
   ]
  },
  {
   "cell_type": "code",
   "execution_count": 70,
   "metadata": {},
   "outputs": [
    {
     "data": {
      "text/plain": [
       "961"
      ]
     },
     "execution_count": 70,
     "metadata": {},
     "output_type": "execute_result"
    }
   ],
   "source": [
    "def func(x):\n",
    "    x = x**2\n",
    "    return x\n",
    "func(31)"
   ]
  },
  {
   "cell_type": "code",
   "execution_count": 77,
   "metadata": {},
   "outputs": [
    {
     "name": "stdout",
     "output_type": "stream",
     "text": [
      "[[500, 501, 502, 503, 504, 505, 506, 507, 508, 509, 510, 511, 512, 513, 514, 515, 516, 517, 518, 519, 520, 521, 522, 523, 524, 525, 526, 527, 528, 529, 530, 531, 532, 533, 534, 535, 536, 537, 538, 539, 540, 541, 542, 543, 544, 545, 546, 547, 548, 549, 550, 551, 552, 553, 554, 555, 556, 557, 558, 559, 560, 561, 562, 563, 564, 565, 566, 567, 568, 569, 570, 571, 572, 573, 574, 575, 576, 577, 578, 579, 580, 581, 582, 583, 584, 585, 586, 587, 588, 589, 590, 591, 592, 593, 594, 595, 596, 597, 598, 599, 600, 601, 602, 603, 604, 605, 606, 607, 608, 609, 610, 611, 612, 613, 614, 615, 616, 617, 618, 619, 620, 621, 622, 623, 624, 625, 626, 627, 628, 629, 630, 631, 632, 633, 634, 635, 636, 637, 638, 639, 640, 641, 642, 643, 644, 645, 646, 647, 648, 649, 650, 651, 652, 653, 654, 655, 656, 657, 658, 659, 660, 661, 662, 663, 664, 665, 666, 667, 668, 669, 670, 671, 672, 673, 674, 675, 676, 677, 678, 679, 680, 681, 682, 683, 684, 685, 686, 687, 688, 689, 690, 691, 692, 693, 694, 695, 696, 697, 698, 699, 700, 701, 702, 703, 704, 705, 706, 707, 708, 709, 710, 711, 712, 713, 714, 715, 716, 717, 718, 719, 720, 721, 722, 723, 724, 725, 726, 727, 728, 729, 730, 731, 732, 733, 734, 735, 736, 737, 738, 739, 740, 741, 742, 743, 744, 745, 746, 747, 748, 749, 750, 751, 752, 753, 754, 755, 756, 757, 758, 759, 760, 761, 762, 763, 764, 765, 766, 767, 768, 769, 770, 771, 772, 773, 774, 775, 776, 777, 778, 779, 780, 781, 782, 783, 784, 785, 786, 787, 788, 789, 790, 791, 792, 793, 794, 795, 796, 797, 798, 799, 800, 801, 802, 803, 804, 805, 806, 807, 808, 809, 810, 811, 812, 813, 814, 815, 816, 817, 818, 819, 820, 821, 822, 823, 824, 825, 826, 827, 828, 829, 830, 831, 832, 833, 834, 835, 836, 837, 838, 839, 840, 841, 842, 843, 844, 845, 846, 847, 848, 849, 850, 851, 852, 853, 854, 855, 856, 857, 858, 859, 860, 861, 862, 863, 864, 865, 866, 867, 868, 869, 870, 871, 872, 873, 874, 875, 876, 877, 878, 879, 880, 881, 882, 883, 884, 885, 886, 887, 888, 889, 890, 891, 892, 893, 894, 895, 896, 897, 898, 899, 900, 901, 902, 903, 904, 905, 906, 907, 908, 909, 910, 911, 912, 913, 914, 915, 916, 917, 918, 919, 920, 921, 922, 923, 924, 925, 926, 927, 928, 929, 930, 931, 932, 933, 934, 935, 936, 937, 938, 939, 940, 941, 942, 943, 944, 945, 946, 947, 948, 949, 950, 951, 952, 953, 954, 955, 956, 957, 958, 959, 960, 961, 962, 963, 964, 965, 966, 967, 968, 969, 970, 971, 972, 973, 974, 975, 976, 977, 978, 979, 980, 981, 982, 983, 984, 985, 986, 987, 988, 989, 990, 991, 992, 993, 994, 995, 996, 997, 998, 999]]\n"
     ]
    }
   ],
   "source": [
    "lst = [i for i in range(500, 1000)]\n",
    "lst\n",
    "print [lst]\n"
   ]
  },
  {
   "cell_type": "markdown",
   "metadata": {},
   "source": [
    "500<Odd Numbers<1000"
   ]
  },
  {
   "cell_type": "code",
   "execution_count": 78,
   "metadata": {},
   "outputs": [
    {
     "name": "stdout",
     "output_type": "stream",
     "text": [
      "[[501, 503, 505, 507, 509, 511, 513, 515, 517, 519, 521, 523, 525, 527, 529, 531, 533, 535, 537, 539, 541, 543, 545, 547, 549, 551, 553, 555, 557, 559, 561, 563, 565, 567, 569, 571, 573, 575, 577, 579, 581, 583, 585, 587, 589, 591, 593, 595, 597, 599, 601, 603, 605, 607, 609, 611, 613, 615, 617, 619, 621, 623, 625, 627, 629, 631, 633, 635, 637, 639, 641, 643, 645, 647, 649, 651, 653, 655, 657, 659, 661, 663, 665, 667, 669, 671, 673, 675, 677, 679, 681, 683, 685, 687, 689, 691, 693, 695, 697, 699, 701, 703, 705, 707, 709, 711, 713, 715, 717, 719, 721, 723, 725, 727, 729, 731, 733, 735, 737, 739, 741, 743, 745, 747, 749, 751, 753, 755, 757, 759, 761, 763, 765, 767, 769, 771, 773, 775, 777, 779, 781, 783, 785, 787, 789, 791, 793, 795, 797, 799, 801, 803, 805, 807, 809, 811, 813, 815, 817, 819, 821, 823, 825, 827, 829, 831, 833, 835, 837, 839, 841, 843, 845, 847, 849, 851, 853, 855, 857, 859, 861, 863, 865, 867, 869, 871, 873, 875, 877, 879, 881, 883, 885, 887, 889, 891, 893, 895, 897, 899, 901, 903, 905, 907, 909, 911, 913, 915, 917, 919, 921, 923, 925, 927, 929, 931, 933, 935, 937, 939, 941, 943, 945, 947, 949, 951, 953, 955, 957, 959, 961, 963, 965, 967, 969, 971, 973, 975, 977, 979, 981, 983, 985, 987, 989, 991, 993, 995, 997, 999]]\n"
     ]
    }
   ],
   "source": [
    "lst[1::2]\n",
    "print [lst[1::2]]"
   ]
  },
  {
   "cell_type": "markdown",
   "metadata": {},
   "source": [
    "500<(Odd Numbers) - (P^2+Σ2P) = Prime Numbers <1000"
   ]
  },
  {
   "cell_type": "code",
   "execution_count": 91,
   "metadata": {},
   "outputs": [
    {
     "name": "stdout",
     "output_type": "stream",
     "text": [
      "[641, 643, 773, 929, 647, 521, 503, 523, 653, 941, 911, 947, 659, 661, 953, 857, 883, 541, 673, 977, 547, 811, 677, 809, 683, 557, 827, 797, 563, 821, 937, 823, 569, 571, 769, 701, 577, 863, 907, 709, 991, 839, 587, 727, 719, 593, 919, 853, 983, 599, 601, 829, 859, 733, 607, 887, 739, 613, 743, 617, 691, 619, 877, 971, 751, 881, 787, 757, 967, 631, 761, 997, 509]\n"
     ]
    }
   ],
   "source": [
    "l1 = [501, 503, 505, 507, 509, 511, 513, 515, 517, 519, 521, 523, 525, 527, 529, 531, 533, 535, 537, 539, 541, 543, 545, 547, 549, \n",
    "      551, 553, 555, 557, 559, 561, 563, 565, 567, 569, 571, 573, 575, 577, 579, 581, 583, 585, 587, 589, 591, 593, 595, 597, 599, \n",
    "      601, 603, 605, 607, 609, 611, 613, 615, 617, 619, 621, 623, 625, 627, 629, 631, 633, 635, 637, 639, 641, 643, 645, 647, 649, \n",
    "      651, 653, 655, 657, 659, 661, 663, 665, 667, 669, 671, 673, 675, 677, 679, 681, 683, 685, 687, 689, 691, 693, 695, 697, 699, \n",
    "      701, 703, 705, 707, 709, 711, 713, 715, 717, 719, 721, 723, 725, 727, 729, 731, 733, 735, 737, 739, 741, 743, 745, 747, 749, \n",
    "      751, 753, 755, 757, 759, 761, 763, 765, 767, 769, 771, 773, 775, 777, 779, 781, 783, 785, 787, 789, 791, 793, 795, 797, 799, \n",
    "      801, 803, 805, 807, 809, 811, 813, 815, 817, 819, 821, 823, 825, 827, 829, 831, 833, 835, 837, 839, 841, 843, 845, 847, 849, \n",
    "      851, 853, 855, 857, 859, 861, 863, 865, 867, 869, 871, 873, 875, 877, 879, 881, 883, 885, 887, 889, 891, 893, 895, 897, 899, \n",
    "      901, 903, 905, 907, 909, 911, 913, 915, 917, 919, 921, 923, 925, 927, 929, 931, 933, 935, 937, 939, 941, 943, 945, 947, 949, \n",
    "      951, 953, 955, 957, 959, 961, 963, 965, 967, 969, 971, 973, 975, 977, 979, 981, 983, 985, 987, 989, 991, 993, 995, 997, 999] \n",
    "l2 = [501, 507, 513, 519, 525, 531, 537, 543, 549, 555, 561, 567, 573, 579, 585, 591, 597, 603, 609, 615, 621, 627, 633, 639, 645, \n",
    "      651, 657, 663, 669, 675, 681, 687, 693, 699, 705, 711, 717, 723, 729, 735, 741, 747, 753, 759, 765, 771, 777, 783, 789, 795, \n",
    "      801, 807, 813, 819, 825, 831, 837, 843, 849, 855, 861, 867, 873, 879, 885, 891, 897, 903, 909, 915, 921, 927, 933, 939, 945, \n",
    "      951, 957, 963, 969, 975, 981, 987, 993, 999, 505, 515, 525, 535, 545, 555, 565, 575, 585, 595, 605, 615, 625, 635, 645, 655, \n",
    "      665, 675, 685, 695, 705, 715, 725, 735, 745, 755, 765, 775, 785, 795, 805, 815, 825, 835, 845, 855, 865, 875, 885, 895, 905, \n",
    "      915, 925, 935, 945, 955, 965, 975, 985, 995, 511, 525, 539, 553, 567, 581, 595, 609, 623, 637, 651, 665, 679, 693, 707, 721, \n",
    "      735, 749, 763, 777, 791, 805, 819, 833, 847, 861, 875, 889, 903, 917, 931, 945, 959, 973, 987, 517, 539, 561, 583, 605, 627, \n",
    "      649, 671, 693, 715, 737, 759, 781, 803, 825, 847, 869, 891, 913, 935, 957, 979, 507, 533, 559, 585, 611, 637, 663, 689, 715, \n",
    "      741, 767, 793, 819, 845, 871, 897, 923, 949, 975, 527, 561, 595, 629, 663, 697, 731, 765, 799, 833, 867, 901, 935, 969, 513, \n",
    "      551, 589, 627, 665, 703, 741, 779, 817, 855, 893, 931, 969, 575, 621, 667, 713, 759, 805, 851, 897, 943, 989, 899, 957, 529, 841, 961]   \n",
    "\n",
    "result = list(set(l1) - set(l2))\n",
    "print(result)"
   ]
  },
  {
   "cell_type": "markdown",
   "metadata": {},
   "source": [
    "Ascending order"
   ]
  },
  {
   "cell_type": "code",
   "execution_count": 92,
   "metadata": {},
   "outputs": [
    {
     "name": "stdout",
     "output_type": "stream",
     "text": [
      "[503, 509, 521, 523, 541, 547, 557, 563, 569, 571, 577, 587, 593, 599, 601, 607, 613, 617, 619, 631, 641, 643, 647, 653, 659, 661, 673, 677, 683, 691, 701, 709, 719, 727, 733, 739, 743, 751, 757, 761, 769, 773, 787, 797, 809, 811, 821, 823, 827, 829, 839, 853, 857, 859, 863, 877, 881, 883, 887, 907, 911, 919, 929, 937, 941, 947, 953, 967, 971, 977, 983, 991, 997]\n"
     ]
    }
   ],
   "source": [
    "sorted([641, 643, 773, 929, 647, 521, 503, 523, 653, 941, 911, 947, 659, 661, 953, 857, 883, 541, 673, 977, 547, 811, 677, 809, 683, 557, 827, 797, 563, 821, 937, 823, 569, 571, 769, 701, 577, 863, 907, 709, 991, 839, 587, 727, 719, 593, 919, 853, 983, 599, 601, 829, 859, 733, 607, 887, 739, 613, 743, 617, 691, 619, 877, 971, 751, 881, 787, 757, 967, 631, 761, 997, 509])\n",
    "print(sorted([641, 643, 773, 929, 647, 521, 503, 523, 653, 941, 911, 947, 659, 661, 953, 857, 883, 541, 673, 977, 547, 811, 677, 809, 683, 557, 827, 797, 563, 821, 937, 823, 569, 571, 769, 701, 577, 863, 907, 709, 991, 839, 587, 727, 719, 593, 919, 853, 983, 599, 601, 829, 859, 733, 607, 887, 739, 613, 743, 617, 691, 619, 877, 971, 751, 881, 787, 757, 967, 631, 761, 997, 509]))\n"
   ]
  },
  {
   "cell_type": "markdown",
   "metadata": {},
   "source": [
    "503, 509, 521, 523, 541, 547, 557, 563, 569, 571, 577, 587, 593, 599, 601, 607, 613, 617, 619, 631, 641, 643, 647, 653, 659, 661, 673, 677, 683, 691, 701, 709, 719, 727, 733, 739, 743, 751, 757, 761, 769, 773, 787, 797, 809, 811, 821, 823, 827, 829, 839, 853, 857, 859, 863, 877, 881, 883, 887, 907, 911, 919, 929, 937, 941, 947, 953, 967, 971, 977, 983, 991, 997 are prime numbers in (500-1000). "
   ]
  }
 ],
 "metadata": {
  "kernelspec": {
   "display_name": "Python 2",
   "language": "python",
   "name": "python2"
  },
  "language_info": {
   "codemirror_mode": {
    "name": "ipython",
    "version": 2
   },
   "file_extension": ".py",
   "mimetype": "text/x-python",
   "name": "python",
   "nbconvert_exporter": "python",
   "pygments_lexer": "ipython2",
   "version": "2.7.15"
  }
 },
 "nbformat": 4,
 "nbformat_minor": 2
}
